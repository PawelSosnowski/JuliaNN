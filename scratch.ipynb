{
 "cells": [
  {
   "attachments": {},
   "cell_type": "markdown",
   "metadata": {},
   "source": [
    "# Forward pass and gradient calculation"
   ]
  },
  {
   "attachments": {},
   "cell_type": "markdown",
   "metadata": {},
   "source": [
    "### Forward functions"
   ]
  },
  {
   "cell_type": "code",
   "execution_count": 48,
   "metadata": {},
   "outputs": [
    {
     "data": {
      "text/plain": [
       "1"
      ]
     },
     "metadata": {},
     "output_type": "display_data"
    }
   ],
   "source": [
    "input = ones(28,28,1)\n",
    "input[2,:,1] = input[2,:,1] * 5\n",
    "filters1 = ones(3,3, 1, 32) # filters format: (kernel_dim_1, kernel_dim_2, in_channel, out_channel) \n",
    "filters2 = ones(3,3, 32, 64); # filters format: (kernel_dim_1, kernel_dim_2, in_channel, out_channel) \n",
    "linear_weights = ones(10, 1600) # weights format: (out_dim, in_dim)\n",
    "linear_bias = ones(10);\n",
    "\n",
    "label = Array{Float32, 2}(undef, 10, 1)\n",
    "label *= 0\n",
    "label[5] = 1"
   ]
  },
  {
   "cell_type": "code",
   "execution_count": 49,
   "metadata": {},
   "outputs": [
    {
     "data": {
      "text/plain": [
       "conv2d (generic function with 1 method)"
      ]
     },
     "metadata": {},
     "output_type": "display_data"
    }
   ],
   "source": [
    "# Conv 2d, assumes square input, filter and stride = 1, no bias\n",
    "function conv2d(input, filters)\n",
    "    dim_f, in_channels, out_channels = size(filters)[2:4]\n",
    "    dim_i = size(input)[2]\n",
    "    out_dim = dim_i - dim_f + 1\n",
    "\n",
    "    output = zeros(out_dim, out_dim, out_channels)\n",
    "    \n",
    "    for n in 1:out_channels\n",
    "        for i in 1:out_dim\n",
    "            for j in 1:out_dim\n",
    "                for c in 1:in_channels\n",
    "                    output[i, j, n] += sum(input[i:i+dim_f-1, j:j+dim_f-1, c] .* filters[:,:, c, n])\n",
    "                end\n",
    "            end\n",
    "        end\n",
    "    end\n",
    "\n",
    "    return output\n",
    "end"
   ]
  },
  {
   "cell_type": "code",
   "execution_count": 50,
   "metadata": {},
   "outputs": [
    {
     "data": {
      "text/plain": [
       "relu (generic function with 1 method)"
      ]
     },
     "metadata": {},
     "output_type": "display_data"
    }
   ],
   "source": [
    "# relu\n",
    "function relu(input)\n",
    "    return max.(0, input)\n",
    "end"
   ]
  },
  {
   "cell_type": "code",
   "execution_count": 51,
   "metadata": {},
   "outputs": [
    {
     "data": {
      "text/plain": [
       "maxpool2d (generic function with 1 method)"
      ]
     },
     "metadata": {},
     "output_type": "display_data"
    }
   ],
   "source": [
    "# maxpool2d, assumes kernel_size == stride\n",
    "\n",
    "function maxpool2d(input, kernel_size)\n",
    "    dim_i, n_filters = size(input)[2:3]\n",
    "    out_dim = floor(Int, dim_i / kernel_size)\n",
    "    output = Array{Float32, 3}(undef, out_dim, out_dim, n_filters)\n",
    "    \n",
    "    for n in 1:n_filters\n",
    "        for i in 1:out_dim\n",
    "            for j in 1:out_dim\n",
    "                output[i, j, n] = maximum(input[(i-1)*kernel_size+1:i*kernel_size, (j-1)*kernel_size+1:j*kernel_size, n])\n",
    "            end\n",
    "        end\n",
    "    end\n",
    "\n",
    "    return output\n",
    "end"
   ]
  },
  {
   "cell_type": "code",
   "execution_count": 52,
   "metadata": {},
   "outputs": [
    {
     "data": {
      "text/plain": [
       "flatten (generic function with 1 method)"
      ]
     },
     "metadata": {},
     "output_type": "display_data"
    }
   ],
   "source": [
    "# flatten\n",
    "function flatten(input)\n",
    "    return reshape(input, prod(size(input)), 1)\n",
    "end"
   ]
  },
  {
   "cell_type": "code",
   "execution_count": 53,
   "metadata": {},
   "outputs": [
    {
     "data": {
      "text/plain": [
       "linear (generic function with 1 method)"
      ]
     },
     "metadata": {},
     "output_type": "display_data"
    }
   ],
   "source": [
    "# Fully connected (linear)\n",
    "function linear(input, weights, bias)\n",
    "        output = Array{Float32, 2}(undef, size(weights)[1], size(input)[2])\n",
    "    return weights * input + bias\n",
    "end"
   ]
  },
  {
   "cell_type": "code",
   "execution_count": 54,
   "metadata": {},
   "outputs": [
    {
     "data": {
      "text/plain": [
       "log_softmax (generic function with 1 method)"
      ]
     },
     "metadata": {},
     "output_type": "display_data"
    }
   ],
   "source": [
    "# log softmax using LSE trick\n",
    "function log_softmax(input)\n",
    "    c = maximum(input)\n",
    "    return input .- (c + log(sum(exp.(input .- c))))\n",
    "end"
   ]
  },
  {
   "cell_type": "code",
   "execution_count": 55,
   "metadata": {},
   "outputs": [
    {
     "data": {
      "text/plain": [
       "nll_loss (generic function with 1 method)"
      ]
     },
     "metadata": {},
     "output_type": "display_data"
    }
   ],
   "source": [
    "# nll_loss, format equivalent to torch.nn.NLLLoss\n",
    "function nll_loss(y, y_true)\n",
    "    for i in 1:size(y)[1]\n",
    "        if y_true[i] == 1\n",
    "            return -y[i]\n",
    "        end\n",
    "    end\n",
    "end"
   ]
  },
  {
   "cell_type": "code",
   "execution_count": 56,
   "metadata": {},
   "outputs": [
    {
     "data": {
      "text/plain": [
       "2.302585093304515"
      ]
     },
     "metadata": {},
     "output_type": "display_data"
    }
   ],
   "source": [
    "# forward pass of network\n",
    "output1 = maxpool2d(relu(conv2d(input, filters1)), 2)\n",
    "output2 = maxpool2d(relu(conv2d(output1, filters2)), 2)\n",
    "preds = log_softmax(linear(flatten(output2), linear_weights, linear_bias))\n",
    "loss = nll_loss(preds, label)"
   ]
  },
  {
   "attachments": {},
   "cell_type": "markdown",
   "metadata": {},
   "source": [
    "### Gradient calculations"
   ]
  },
  {
   "cell_type": "code",
   "execution_count": null,
   "metadata": {},
   "outputs": [],
   "source": [
    "# nll_loss grad"
   ]
  },
  {
   "cell_type": "code",
   "execution_count": null,
   "metadata": {},
   "outputs": [],
   "source": [
    "# log_softmax grad"
   ]
  },
  {
   "cell_type": "code",
   "execution_count": null,
   "metadata": {},
   "outputs": [],
   "source": [
    "# linear grad"
   ]
  },
  {
   "cell_type": "code",
   "execution_count": null,
   "metadata": {},
   "outputs": [],
   "source": [
    "# flatten grad"
   ]
  },
  {
   "cell_type": "code",
   "execution_count": 46,
   "metadata": {},
   "outputs": [],
   "source": [
    "# maxpool2d grad\n"
   ]
  },
  {
   "cell_type": "code",
   "execution_count": 27,
   "metadata": {},
   "outputs": [
    {
     "data": {
      "text/plain": [
       "relu_grad (generic function with 1 method)"
      ]
     },
     "metadata": {},
     "output_type": "display_data"
    }
   ],
   "source": [
    "# relu grad\n",
    "function relu_grad(input, grad)\n",
    "    negative_mask = input .<= 0.0\n",
    "    grad[negative_mask] .= 0.0\n",
    "    return grad\n",
    "end"
   ]
  },
  {
   "cell_type": "code",
   "execution_count": null,
   "metadata": {},
   "outputs": [],
   "source": [
    "# conv2d grad"
   ]
  }
 ],
 "metadata": {
  "kernelspec": {
   "display_name": "Julia 1.8.5",
   "language": "julia",
   "name": "julia-1.8"
  },
  "language_info": {
   "file_extension": ".jl",
   "mimetype": "application/julia",
   "name": "julia",
   "version": "1.8.5"
  },
  "orig_nbformat": 4
 },
 "nbformat": 4,
 "nbformat_minor": 2
}
